{
 "cells": [
  {
   "cell_type": "markdown",
   "metadata": {},
   "source": [
    "# Exploration"
   ]
  },
  {
   "cell_type": "code",
   "execution_count": 1,
   "metadata": {},
   "outputs": [
    {
     "data": {
      "text/plain": [
       "0j"
      ]
     },
     "execution_count": 1,
     "metadata": {},
     "output_type": "execute_result"
    }
   ],
   "source": [
    "complex(0,0)"
   ]
  },
  {
   "cell_type": "code",
   "execution_count": null,
   "metadata": {},
   "outputs": [],
   "source": []
  },
  {
   "cell_type": "markdown",
   "metadata": {},
   "source": [
    "# Tree tests (Matplotlib)"
   ]
  },
  {
   "cell_type": "code",
   "execution_count": 21,
   "metadata": {},
   "outputs": [],
   "source": [
    "from moebtr import *\n",
    "from circletree import *\n",
    "\n",
    "A = HComplex(complex(-10, 0))\n",
    "B = HComplex(complex(0, 10))\n",
    "C = HComplex(complex(10, 0))\n",
    "D = HComplex(complex(0, -10))\n",
    "α = HComplex(complex(-20,10))\n",
    "β = HComplex(complex(20,10))\n",
    "γ = HComplex(complex(-20,-10))\n",
    "δ = HComplex(complex(20,-10))\n",
    "\n",
    "C1 = Circle(B, α, A)\n",
    "C2 = Circle(β, B, C)\n",
    "C3 = Circle(D, A, γ)\n",
    "C4 = Circle(δ, C, D)\n",
    "        \n",
    "M1 = MoebTr.fromTo(B, α, A, B, β, C)\n",
    "M1_inv = M1.inv()\n",
    "M2 = MoebTr.fromTo(D, A, γ, D, C, δ)\n",
    "M2_inv = M2.inv()\n",
    "\n",
    "tree = [TreeNode(C1, M1_inv, M1, M2, M2_inv, 3),\n",
    "        TreeNode(C2, M1, M1_inv, M2, M2_inv, 3),\n",
    "        TreeNode(C3, M2_inv, M2, M1, M1_inv, 3),\n",
    "        TreeNode(C4, M2, M2_inv, M1, M1_inv, 3)]\n",
    "\n"
   ]
  },
  {
   "cell_type": "code",
   "execution_count": 24,
   "metadata": {},
   "outputs": [],
   "source": [
    "from moebtr import *\n",
    "from circletree import *\n",
    "\n",
    "A = HComplex(complex(-5.9, -1.39))\n",
    "B = HComplex(complex(-1.3, 2.89))\n",
    "C = HComplex(complex(5.76, -0.93))\n",
    "D = HComplex(complex(-2.69986, -8.657969))\n",
    "α = HComplex(complex(-7.4734297,4.675903))\n",
    "β = HComplex(complex(8.492723,6.5929834))\n",
    "γ = HComplex(complex(-12.5395907,-6.8426021))\n",
    "δ = HComplex(complex(26.58786,-12.1157866))\n",
    "\n",
    "C1 = Circle(B, α, A)\n",
    "C2 = Circle(β, B, C)\n",
    "C3 = Circle(D, A, γ)\n",
    "C4 = Circle(δ, C, D)\n",
    "        \n",
    "M1 = MoebTr.fromTo(B, α, A, B, β, C)\n",
    "M1_inv = M1.inv()\n",
    "M2 = MoebTr.fromTo(D, A, γ, D, C, δ)\n",
    "M2_inv = M2.inv()\n",
    "\n",
    "tree = [TreeNode(C1, M1_inv, M1, M2, M2_inv, 7),\n",
    "        TreeNode(C2, M1, M1_inv, M2, M2_inv, 7),\n",
    "        TreeNode(C3, M2_inv, M2, M1, M1_inv, 7),\n",
    "        TreeNode(C4, M2, M2_inv, M1, M1_inv, 7)]\n",
    "\n"
   ]
  },
  {
   "cell_type": "code",
   "execution_count": 25,
   "metadata": {
    "scrolled": true
   },
   "outputs": [
    {
     "data": {
      "image/png": "[encoded data removed]",
      "text/plain": [
       "<Figure size 432x288 with 1 Axes>"
      ]
     },
     "metadata": {
      "needs_background": "light"
     },
     "output_type": "display_data"
    }
   ],
   "source": [
    "plot_tree(tree)"
   ]
  },
  {
   "cell_type": "markdown",
   "metadata": {},
   "source": [
    "# Tree tests (plotly)\n",
    "Incomplet"
   ]
  },
  {
   "cell_type": "code",
   "execution_count": null,
   "metadata": {},
   "outputs": [],
   "source": [
    "import plotly.graph_objects as go\n",
    "\n",
    "fig = go.Figure()\n",
    "\n",
    "# Create scatter trace of text labels\n",
    "#fig.add_trace(go.Scatter(\n",
    "#    x=[1.5, 3.5],\n",
    "#    y=[0.75, 2.5],\n",
    "#    text=[\"Unfilled Circle\",\n",
    "#          \"Filled Circle\"],\n",
    "#    mode=\"text\",\n",
    "#))\n",
    "\n",
    "# Set axes properties\n",
    "fig.update_xaxes(range=[-20, 20], zeroline=False)\n",
    "fig.update_yaxes(range=[-20, 20])\n",
    "\n",
    "# Add circles\n",
    "fig.update_layout(\n",
    "    shapes=[\n",
    "        # unfilled circle\n",
    "        go.layout.Shape(\n",
    "            type=\"circle\",\n",
    "            xref=\"x\",\n",
    "            yref=\"y\",\n",
    "            x0=C1.center().real - C1.radius(),\n",
    "            y0=C1.center().imag - C1.radius(),\n",
    "            x1=C1.center().real + C1.radius(),\n",
    "            y1=C1.center().imag + C1.radius(),\n",
    "            line_color=\"LightSeaGreen\",\n",
    "        ),\n",
    "        # filled circle\n",
    "        go.layout.Shape(\n",
    "            type=\"circle\",\n",
    "            xref=\"x\",\n",
    "            yref=\"y\",\n",
    "            x0= int(C2.center().real - C2.radius()),\n",
    "            y0=C2.center().imag - C2.radius(),\n",
    "            x1=C2.center().real + C2.radius(),\n",
    "            y1=C2.center().imag + C2.radius(),\n",
    "            line_color=\"LightSeaGreen\",\n",
    "        ),\n",
    "        go.layout.Shape(\n",
    "            type=\"circle\",\n",
    "            xref=\"x\",\n",
    "            yref=\"y\",\n",
    "            x0=-1,\n",
    "            y0=-1,\n",
    "            x1=0,\n",
    "            y1=0,\n",
    "            line_color=\"LightSeaGreen\",\n",
    "        )\n",
    "    ]\n",
    ")\n",
    "\n",
    "# Set figure size\n",
    "fig.update_layout(width=800, height=800)\n",
    "\n",
    "fig.show()"
   ]
  },
  {
   "cell_type": "markdown",
   "metadata": {},
   "source": [
    "# Autres tests informels"
   ]
  },
  {
   "cell_type": "markdown",
   "metadata": {},
   "source": [
    "## MoebTr"
   ]
  },
  {
   "cell_type": "code",
   "execution_count": null,
   "metadata": {},
   "outputs": [],
   "source": [
    "# Création d'une MoebTr\n",
    "print(MoebTr(1,0,0,1))"
   ]
  },
  {
   "cell_type": "code",
   "execution_count": null,
   "metadata": {},
   "outputs": [],
   "source": [
    "# Produit de MoebTr\n",
    "M1 = MoebTr(1,0,0,2)*MoebTr(2,0,0,1)\n",
    "M2 = MoebTr(1,0,0,2).dot(MoebTr(2,0,0,1))\n",
    "print(M1)\n",
    "print(M2)"
   ]
  },
  {
   "cell_type": "code",
   "execution_count": null,
   "metadata": {},
   "outputs": [],
   "source": [
    "# Égalité\n",
    "print(M1 == M2)"
   ]
  },
  {
   "cell_type": "code",
   "execution_count": null,
   "metadata": {},
   "outputs": [],
   "source": [
    "# Inversion de MoebTr\n",
    "print(MoebTr(1,0,0,2).inv())\n",
    "print(MoebTr(1,-1j,1,1j).inv())\n",
    "print(MoebTr.fromTo(1,2,3, 1 + 1j, 1-1j, 0).inv()*HComplex(1 + 1j))"
   ]
  },
  {
   "cell_type": "code",
   "execution_count": null,
   "metadata": {},
   "outputs": [],
   "source": [
    "# Fonction fromTo\n",
    "M = MoebTr.fromTo(1,2,3, 4,5,6)\n",
    "print(M.dot(HComplex(1)).value(), M.dot(HComplex(2)).value(), M.dot(HComplex(3)).value())"
   ]
  },
  {
   "cell_type": "code",
   "execution_count": null,
   "metadata": {},
   "outputs": [],
   "source": [
    "# Quelques tests de valeurs problématiques\n",
    "# Vers un point infini\n",
    "try:\n",
    "    MoebTr.fromTo(1,2,3, float(\"inf\"), 2, 3)\n",
    "except ValueError as e:\n",
    "    print(e)\n",
    "# Réduction de dimension (Mapper 2 points vers le même point.)\n",
    "try:\n",
    "    MoebTr.fromTo(1,2,3, 4,2,2)\n",
    "except ValueError as e:\n",
    "    print(e)"
   ]
  },
  {
   "cell_type": "markdown",
   "metadata": {},
   "source": [
    "## HComplex"
   ]
  },
  {
   "cell_type": "code",
   "execution_count": null,
   "metadata": {},
   "outputs": [],
   "source": [
    "# Création d'un HComplex\n",
    "HComplex(1+1j, 1)"
   ]
  },
  {
   "cell_type": "code",
   "execution_count": null,
   "metadata": {},
   "outputs": [],
   "source": [
    "H"
   ]
  },
  {
   "cell_type": "markdown",
   "metadata": {},
   "source": [
    "# Circle"
   ]
  },
  {
   "cell_type": "code",
   "execution_count": null,
   "metadata": {},
   "outputs": [],
   "source": [
    "c0 = Circle(complex(1), complex(2), complex(3))\n",
    "c0"
   ]
  },
  {
   "cell_type": "code",
   "execution_count": null,
   "metadata": {},
   "outputs": [],
   "source": [
    "print(c0.toComplex())"
   ]
  },
  {
   "cell_type": "code",
   "execution_count": null,
   "metadata": {},
   "outputs": [],
   "source": [
    "print(c0.center())\n",
    "print(c0.radius())"
   ]
  },
  {
   "cell_type": "code",
   "execution_count": null,
   "metadata": {},
   "outputs": [],
   "source": [
    "c2 = Circle(complex(1,-2), complex(3, 3), complex(4,-1))"
   ]
  },
  {
   "cell_type": "code",
   "execution_count": null,
   "metadata": {},
   "outputs": [],
   "source": [
    "print(c2.center())\n",
    "print(c2.radius())"
   ]
  },
  {
   "cell_type": "code",
   "execution_count": null,
   "metadata": {},
   "outputs": [],
   "source": []
  }
 ],
 "metadata": {
  "kernelspec": {
   "display_name": "Python 3",
   "language": "python",
   "name": "python3"
  },
  "language_info": {
   "codemirror_mode": {
    "name": "ipython",
    "version": 3
   },
   "file_extension": ".py",
   "mimetype": "text/x-python",
   "name": "python",
   "nbconvert_exporter": "python",
   "pygments_lexer": "ipython3",
   "version": "3.6.9"
  }
 },
 "nbformat": 4,
 "nbformat_minor": 2
}
