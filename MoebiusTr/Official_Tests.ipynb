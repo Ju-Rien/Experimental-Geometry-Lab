{
 "cells": [
  {
   "cell_type": "markdown",
   "metadata": {},
   "source": [
    "# MoebTr Module Testing\n",
    "\n",
    "This document's purpose is to tests the different classes of module `moebtr`."
   ]
  },
  {
   "cell_type": "code",
   "execution_count": null,
   "metadata": {},
   "outputs": [],
   "source": [
    "from moebtr import *\n",
    "from circletree import *\n",
    "import unittest"
   ]
  },
  {
   "cell_type": "markdown",
   "metadata": {},
   "source": [
    "## Defining the tests"
   ]
  },
  {
   "cell_type": "markdown",
   "metadata": {},
   "source": [
    "### HComplex"
   ]
  },
  {
   "cell_type": "code",
   "execution_count": null,
   "metadata": {},
   "outputs": [],
   "source": [
    "class HComplexTests(unittest.TestCase):\n",
    "    \"\"\"Test the HComplex class\"\"\"\n",
    "    \n",
    "    def setUp(self):\n",
    "        pass\n",
    "    \n",
    "    def tearDown(self):\n",
    "        pass\n",
    "    \n",
    "    def test_hc_creation(self):\n",
    "        \"\"\"Tests multiple HComplex creations, without verifying the results.\"\"\"\n",
    "        # Normal complex numbesr\n",
    "        HComplex(1+1j, 1)\n",
    "        HComplex(100000, 0)\n",
    "        HComplex(complex(1, -1), complex(0.5))\n",
    "        HComplex(complex(1, -1), 0.5)\n",
    "        HComplex(complex(0, -1), complex(0, -2))\n",
    "        \n",
    "        #Complex numbers with infinity\n",
    "        with self.assertRaises(ValueError):\n",
    "            HComplex(float(\"inf\"), float(\"inf\")), HComplex(1,0)\n",
    "            \n",
    "        HComplex(float(\"inf\"), 0)\n",
    "        HComplex(float(\"inf\"), 1)\n",
    "        HComplex(0, float(\"inf\"))\n",
    "        HComplex(1, float(\"inf\"))\n",
    "    \n",
    "    def test_reg_homogenize(self):\n",
    "        hc1 = HComplex(complex(1, -1), complex(0.5))\n",
    "        self.assertEqual(hc1.homogenize().toComplex(), complex(2, -2))\n",
    "        \n",
    "    def test_reg_equality(self):\n",
    "        self.assertEqual(\n",
    "            HComplex(complex(2, -2), 2), HComplex(complex(1,-1))\n",
    "        )\n",
    "        self.assertEqual(\n",
    "            HComplex(complex(1, -1), complex(0.00001, -213)), HComplex(complex(3, -3), complex(0.00003, -639))\n",
    "        )\n",
    "        self.assertNotEqual(\n",
    "            HComplex(0,1), HComplex(1,0)\n",
    "        )\n",
    "        \n",
    "    def test_inf_equality(self):\n",
    "        # Infinities\n",
    "        self.assertEqual(HComplex(float(\"inf\")), HComplex(1,0))\n",
    "        self.assertEqual(HComplex(float(\"inf\"), 0), HComplex(1,0))\n",
    "        self.assertEqual(HComplex(float(\"inf\"), 1), HComplex(1,0))\n",
    "        \n",
    "        #Zeroes\n",
    "        self.assertEqual(HComplex(0, float(\"inf\")), HComplex(0,1))\n",
    "        self.assertEqual(HComplex(1, float(\"inf\")), HComplex(0,1))\n",
    "        "
   ]
  },
  {
   "cell_type": "markdown",
   "metadata": {},
   "source": [
    "### Circle"
   ]
  },
  {
   "cell_type": "markdown",
   "metadata": {},
   "source": [
    "### MoebTr"
   ]
  },
  {
   "cell_type": "markdown",
   "metadata": {},
   "source": [
    "### TreeNode"
   ]
  },
  {
   "cell_type": "code",
   "execution_count": null,
   "metadata": {},
   "outputs": [],
   "source": [
    "class TreeNodeTests(unittest.TestCase):\n",
    "    \"\"\"Test the HComplex class\"\"\"\n",
    "    \n",
    "    def setUp(self):\n",
    "        self.A = HComplex(complex(-10, 0))\n",
    "        self.B = HComplex(complex(0, 10))\n",
    "        self.C = HComplex(complex(10, 0))\n",
    "        self.D = HComplex(complex(0, -10))\n",
    "        self.α = HComplex(complex(-20,10))\n",
    "        self.β = HComplex(complex(20,10))\n",
    "        self.γ = HComplex(complex(-20,-10))\n",
    "        self.δ = HComplex(complex(20,10))\n",
    "        \n",
    "        self.C1 = Circle(self.B, self.α, self.A)\n",
    "        self.C2 = Circle(self.β, self.B, self.C)\n",
    "        self.C3 = Circle(self.D, self.A, self.γ)\n",
    "        self.C4 = Circle(self.δ, self.C, self.D)\n",
    "        \n",
    "        self.M1 = MoebTr.fromTo(self.B, self.α, self.A, self.B, self.β, self.C)\n",
    "        self.M1_inv = self.M1.inv()\n",
    "        self.M2 = MoebTr.fromTo(self.D, self.A, self.γ, self.D, self.C, self.δ)\n",
    "        self.M2_inv = self.M2.inv()\n",
    "    \n",
    "    def tearDown(self):\n",
    "        pass\n",
    "    \n",
    "    def test_node_creation(self):\n",
    "        tree = [TreeNode(self.C1, self.M1_inv, self.M1, self.M2, self.M2_inv, 2),\n",
    "                TreeNode(self.C2, self.M1, self.M1_inv, self.M2, self.M2_inv, 2),\n",
    "                TreeNode(self.C3, self.M2_inv, self.M2, self.M1, self.M1_inv, 2),\n",
    "                TreeNode(self.C4, self.M2, self.M2_inv, self.M1, self.M1_inv, 2)]\n",
    "\n",
    "    #def test_print(self):\n",
    "    #    tree = [TreeNode(self.C1, self.M1_inv, self.M1, self.M2, self.M2_inv, 2),\n",
    "    #            TreeNode(self.C2, self.M1, self.M1_inv, self.M2, self.M2_inv, 2),\n",
    "    #            TreeNode(self.C3, self.M2_inv, self.M2, self.M1, self.M1_inv, 2),\n",
    "    #            TreeNode(self.C4, self.M2, self.M2_inv, self.M1, self.M1_inv, 2)]\n",
    "    #    for nod in tree:\n",
    "    #        nod.PrintTree()\n",
    "    \n",
    "    def test_iterable(self):\n",
    "        tree = [TreeNode(self.C1, self.M1_inv, self.M1, self.M2, self.M2_inv, 3),\n",
    "                TreeNode(self.C2, self.M1, self.M1_inv, self.M2, self.M2_inv, 3),\n",
    "                TreeNode(self.C3, self.M2_inv, self.M2, self.M1, self.M1_inv, 3),\n",
    "                TreeNode(self.C4, self.M2, self.M2_inv, self.M1, self.M1_inv, 3)]\n",
    "        for nod in tree:\n",
    "            for t in nod:\n",
    "                self.assertTrue(isinstance(t, Circle))\n",
    "    \n",
    "    def test_plot(self):\n",
    "        tree = [TreeNode(self.C1, self.M1_inv, self.M1, self.M2, self.M2_inv, 2),\n",
    "                TreeNode(self.C2, self.M1, self.M1_inv, self.M2, self.M2_inv, 2),\n",
    "                TreeNode(self.C3, self.M2_inv, self.M2, self.M1, self.M1_inv, 2),\n",
    "                TreeNode(self.C4, self.M2, self.M2_inv, self.M1, self.M1_inv, 2)]\n",
    "        for nod in tree:\n",
    "            plot_tree(nod)"
   ]
  },
  {
   "cell_type": "markdown",
   "metadata": {},
   "source": [
    "## The actual tests"
   ]
  },
  {
   "cell_type": "code",
   "execution_count": null,
   "metadata": {
    "scrolled": false
   },
   "outputs": [],
   "source": [
    "unittest.main(argv=['first-arg-is-ignored'], exit=False)"
   ]
  },
  {
   "cell_type": "code",
   "execution_count": null,
   "metadata": {},
   "outputs": [],
   "source": []
  }
 ],
 "metadata": {
  "kernelspec": {
   "display_name": "Python 3",
   "language": "python",
   "name": "python3"
  },
  "language_info": {
   "codemirror_mode": {
    "name": "ipython",
    "version": 3
   },
   "file_extension": ".py",
   "mimetype": "text/x-python",
   "name": "python",
   "nbconvert_exporter": "python",
   "pygments_lexer": "ipython3",
   "version": "3.6.9"
  }
 },
 "nbformat": 4,
 "nbformat_minor": 2
}
