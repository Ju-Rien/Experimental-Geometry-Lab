{
 "cells": [
  {
   "cell_type": "markdown",
   "metadata": {},
   "source": [
    "# MoebTr Module Testing\n",
    "\n",
    "This document's purpose is to tests the different classes of module `moebtr`."
   ]
  },
  {
   "cell_type": "code",
   "execution_count": 1,
   "metadata": {},
   "outputs": [],
   "source": [
    "from moebtr import *\n",
    "from circletree import *\n",
    "import unittest"
   ]
  },
  {
   "cell_type": "markdown",
   "metadata": {},
   "source": [
    "## Defining the tests"
   ]
  },
  {
   "cell_type": "markdown",
   "metadata": {},
   "source": [
    "### HComplex"
   ]
  },
  {
   "cell_type": "code",
   "execution_count": 2,
   "metadata": {},
   "outputs": [],
   "source": [
    "class HComplexTests(unittest.TestCase):\n",
    "    \"\"\"Test the HComplex class\"\"\"\n",
    "    \n",
    "    def setUp(self):\n",
    "        pass\n",
    "    \n",
    "    def tearDown(self):\n",
    "        pass\n",
    "    \n",
    "    def test_hc_creation(self):\n",
    "        \"\"\"Tests multiple HComplex creations, without verifying the results.\"\"\"\n",
    "        # Normal complex numbesr\n",
    "        HComplex(1+1j, 1)\n",
    "        HComplex(100000, 0)\n",
    "        HComplex(complex(1, -1), complex(0.5))\n",
    "        HComplex(complex(1, -1), 0.5)\n",
    "        HComplex(complex(0, -1), complex(0, -2))\n",
    "        \n",
    "        #Complex numbers with infinity\n",
    "        with self.assertRaises(ValueError):\n",
    "            HComplex(float(\"inf\"), float(\"inf\")), HComplex(1,0)\n",
    "            \n",
    "        HComplex(float(\"inf\"), 0)\n",
    "        HComplex(float(\"inf\"), 1)\n",
    "        HComplex(0, float(\"inf\"))\n",
    "        HComplex(1, float(\"inf\"))\n",
    "    \n",
    "    def test_reg_homogenize(self):\n",
    "        hc1 = HComplex(complex(1, -1), complex(0.5))\n",
    "        self.assertEqual(hc1.homogenize().toComplex(), complex(2, -2))\n",
    "        \n",
    "    def test_reg_equality(self):\n",
    "        self.assertEqual(\n",
    "            HComplex(complex(2, -2), 2), HComplex(complex(1,-1))\n",
    "        )\n",
    "        self.assertEqual(\n",
    "            HComplex(complex(1, -1), complex(0.00001, -213)), HComplex(complex(3, -3), complex(0.00003, -639))\n",
    "        )\n",
    "        self.assertNotEqual(\n",
    "            HComplex(0,1), HComplex(1,0)\n",
    "        )\n",
    "        \n",
    "    def test_inf_equality(self):\n",
    "        # Infinities\n",
    "        self.assertEqual(HComplex(float(\"inf\")), HComplex(1,0))\n",
    "        self.assertEqual(HComplex(float(\"inf\"), 0), HComplex(1,0))\n",
    "        self.assertEqual(HComplex(float(\"inf\"), 1), HComplex(1,0))\n",
    "        \n",
    "        #Zeroes\n",
    "        self.assertEqual(HComplex(0, float(\"inf\")), HComplex(0,1))\n",
    "        self.assertEqual(HComplex(1, float(\"inf\")), HComplex(0,1))\n",
    "        "
   ]
  },
  {
   "cell_type": "markdown",
   "metadata": {},
   "source": [
    "### Circle"
   ]
  },
  {
   "cell_type": "markdown",
   "metadata": {},
   "source": [
    "### MoebTr"
   ]
  },
  {
   "cell_type": "markdown",
   "metadata": {},
   "source": [
    "### TreeNode"
   ]
  },
  {
   "cell_type": "code",
   "execution_count": 3,
   "metadata": {},
   "outputs": [],
   "source": [
    "class TreeNodeTests(unittest.TestCase):\n",
    "    \"\"\"Test the HComplex class\"\"\"\n",
    "    \n",
    "    def setUp(self):\n",
    "        self.A = HComplex(complex(-10, 0))\n",
    "        self.B = HComplex(complex(0, 10))\n",
    "        self.C = HComplex(complex(10, 0))\n",
    "        self.D = HComplex(complex(0, -10))\n",
    "        self.α = HComplex(complex(-20,10))\n",
    "        self.β = HComplex(complex(20,10))\n",
    "        self.γ = HComplex(complex(-20,-10))\n",
    "        self.δ = HComplex(complex(20,10))\n",
    "        \n",
    "        self.C1 = Circle(self.B, self.α, self.A)\n",
    "        self.C2 = Circle(self.β, self.B, self.C)\n",
    "        self.C3 = Circle(self.D, self.A, self.γ)\n",
    "        self.C4 = Circle(self.δ, self.C, self.D)\n",
    "        \n",
    "        self.M1 = MoebTr.fromTo(self.B, self.α, self.A, self.B, self.β, self.C)\n",
    "        self.M1_inv = self.M1.inv()\n",
    "        self.M2 = MoebTr.fromTo(self.D, self.A, self.γ, self.D, self.C, self.δ)\n",
    "        self.M2_inv = self.M2.inv()\n",
    "        pass\n",
    "    \n",
    "    def tearDown(self):\n",
    "        pass\n",
    "    \n",
    "    def test_node_creation(self):\n",
    "        tree = [TreeNode(self.C1, self.M1_inv, self.M1, self.M2, self.M2_inv, 2),\n",
    "                TreeNode(self.C2, self.M1, self.M1_inv, self.M2, self.M2_inv, 2),\n",
    "                TreeNode(self.C3, self.M2_inv, self.M2, self.M1, self.M1_inv, 2),\n",
    "                TreeNode(self.C4, self.M2, self.M2_inv, self.M1, self.M1_inv, 2)]\n",
    "\n",
    "    #def test_print(self):\n",
    "    #    tree = [TreeNode(self.C1, self.M1_inv, self.M1, self.M2, self.M2_inv, 2),\n",
    "    #            TreeNode(self.C2, self.M1, self.M1_inv, self.M2, self.M2_inv, 2),\n",
    "    #            TreeNode(self.C3, self.M2_inv, self.M2, self.M1, self.M1_inv, 2),\n",
    "    #            TreeNode(self.C4, self.M2, self.M2_inv, self.M1, self.M1_inv, 2)]\n",
    "    #    for nod in tree:\n",
    "    #        nod.PrintTree()\n",
    "    \n",
    "    def test_iterable(self):\n",
    "        tree = [TreeNode(self.C1, self.M1_inv, self.M1, self.M2, self.M2_inv, 2),\n",
    "                TreeNode(self.C2, self.M1, self.M1_inv, self.M2, self.M2_inv, 2),\n",
    "                TreeNode(self.C3, self.M2_inv, self.M2, self.M1, self.M1_inv, 2),\n",
    "                TreeNode(self.C4, self.M2, self.M2_inv, self.M1, self.M1_inv, 2)]\n",
    "        for nod in tree:\n",
    "            for t in nod:\n",
    "                print(t)"
   ]
  },
  {
   "cell_type": "markdown",
   "metadata": {},
   "source": [
    "## The actual tests"
   ]
  },
  {
   "cell_type": "code",
   "execution_count": 4,
   "metadata": {
    "scrolled": false
   },
   "outputs": [
    {
     "name": "stderr",
     "output_type": "stream",
     "text": [
      "......"
     ]
    },
    {
     "name": "stdout",
     "output_type": "stream",
     "text": [
      "Circle(10j, (-20+10j), (-10+0j))\n",
      "Circle((-6.661338147750939e-16+10j), (-6.666666666666666+10j), (-6+8j))\n",
      "Circle((-6.661338147750939e-16+10j), (-4.000000000000001+10j), (-3.8461538461538476+9.230769230769232j))\n",
      "Circle((12-5.999999999999998j), (12.682926829268292-4.146341463414633j), (11.999999999999998-3.999999999999999j))\n",
      "Circle((-10.000000000000002-9.999999999999998j), (-8.8-11.600000000000001j), (-8.4-11.199999999999998j))\n",
      "Circle((12-5.999999999999998j), (16-1.999999999999998j), (9.999999999999998-0j))\n",
      "Circle((9.411764705882353-12.352941176470589j), (11.2-11.599999999999998j), (10-9.999999999999998j))\n",
      "Circle((-10.769230769230772+3.846153846153847j), (-13.333333333333334+3.333333333333333j), (-9.999999999999998+1.3322676295501882e-15j))\n",
      "Circle((7.027027027027027+7.837837837837837j), (6.8292682926829285+8.53658536585366j), (6+8j))\n",
      "Circle((-9.999999999999998-9.999999999999998j), (-8.000000000000002-14.000000000000002j), (-6.000000000000002-12.000000000000002j))\n",
      "Circle((-3.3333333333333344-13.333333333333334j), (-2.000000000000001-14.000000000000002j), (-1.7647058823529422-12.941176470588239j))\n",
      "Circle((-7.500000000000002+7.500000000000002j), (-8+7.333333333333334j), (-7.837837837837839+7.027027027027028j))\n",
      "Circle((10+5.000000000000001j), (9.655172413793103+5.862068965517241j), (9.200000000000001+5.599999999999999j))\n",
      "Circle((20+10j), 10j, (10+0j))\n",
      "Circle((6.666666666666666+10j), (6.661338147750939e-16+10j), (6+8j))\n",
      "Circle((4.000000000000001+10j), (6.661338147750939e-16+10j), (3.8461538461538476+9.230769230769232j))\n",
      "Circle((12.075471698113207-7.735849056603773j), (12-5.999999999999998j), (11.538461538461538-7.692307692307692j))\n",
      "Circle((-12.30769230769231-8.461538461538462j), (-9.999999999999998-9.999999999999998j), (-11.53846153846154-7.6923076923076925j))\n",
      "Circle((13.33333333333333-9.999999999999995j), (12-5.999999999999998j), (10-9.999999999999996j))\n",
      "Circle((9.655172413793103-14.137931034482756j), (9.411764705882353-12.352941176470589j), (8-13.999999999999991j))\n",
      "Circle((7.529411764705883+7.882352941176471j), (7.027027027027027+7.837837837837837j), (7.500000000000001+7.500000000000001j))\n",
      "Circle((-10.81081081081081+5.135135135135135j), (-10.769230769230772+3.846153846153847j), (-10+4.999999999999999j))\n",
      "Circle((-20.000000000000004-9.999999999999996j), (-9.999999999999998-9.999999999999998j), (-10+2.927482558948418e-15j))\n",
      "Circle((-5.000000000000003-15j), (-3.3333333333333344-13.333333333333334j), (-6.000000000000002-12.000000000000002j))\n",
      "Circle((12.000000000000004+6.000000000000001j), (10+5.000000000000001j), (9.999999999999998-2.8865798640254078e-15j))\n",
      "Circle((-7.692307692307692+8.461538461538463j), (-7.500000000000002+7.500000000000002j), (-6.000000000000001+8.000000000000002j))\n",
      "Circle(-10j, (-10+0j), (-20-10j))\n",
      "Circle((-0-10j), (-6.000000000000002-12.000000000000002j), (-5.000000000000002-15.000000000000002j))\n",
      "Circle((-0-10j), (-1.7647058823529422-12.941176470588239j), (-0.7692307692307706-13.846153846153848j))\n",
      "Circle((8+6j), (9.200000000000001+5.599999999999999j), (9.230769230769232+6.153846153846153j))\n",
      "Circle((-8+6j), (-7.837837837837839+7.027027027027028j), (-8.23529411764706+7.058823529411767j))\n",
      "Circle((8+6j), (10+6.661338147750939e-16j), (12+6j))\n",
      "Circle((4.705882352941177+8.823529411764707j), (6+8j), (5.599999999999999+9.2j))\n",
      "Circle((-12-5.999999999999998j), (-10+2.927482558948418e-15j), (-15-5j))\n",
      "Circle((11.2-8.399999999999999j), (9.999999999999998-9.999999999999998j), (11.724137931034482-9.310344827586205j))\n",
      "Circle((-8+6j), (-6+8j), (-7.692307692307693+8.461538461538462j))\n",
      "Circle((-4.705882352941177+8.823529411764707j), (-3.8461538461538476+9.230769230769232j), (-4.3902439024390265+9.512195121951219j))\n",
      "Circle((-7.692307692307694-11.538461538461542j), (-8.4-11.199999999999998j), (-8.333333333333334-11.666666666666668j))\n",
      "Circle((11.76470588235294-2.941176470588235j), (11.999999999999998-3.999999999999999j), (12.452830188679245-3.5849056603773586j))\n",
      "Circle((20+10j), (10+0j), -10j)\n",
      "Circle((13.33333333333333-9.999999999999995j), (10-9.999999999999996j), (2.927482558948418e-15-10j))\n",
      "Circle((9.655172413793103-14.137931034482756j), (8-13.999999999999991j), (4.879137598247363e-15-10.000000000000004j))\n",
      "Circle((7.529411764705883+7.882352941176471j), (7.500000000000001+7.500000000000001j), (8+6.0000000000000036j))\n",
      "Circle((-10.81081081081081+5.135135135135135j), (-10+4.999999999999999j), (-8.000000000000002+6.000000000000001j))\n",
      "Circle((6.666666666666666+10j), (6+8j), (8+6j))\n",
      "Circle((4.000000000000001+10j), (3.8461538461538476+9.230769230769232j), (4.705882352941177+8.823529411764707j))\n",
      "Circle((12.075471698113207-7.735849056603773j), (11.538461538461538-7.692307692307692j), (11.2-8.399999999999999j))\n",
      "Circle((-12.30769230769231-8.461538461538462j), (-11.53846153846154-7.6923076923076925j), (-12-5.999999999999998j))\n",
      "Circle((-20.000000000000004+10j), (-10+6.661338147750939e-16j), (-8+6j))\n",
      "Circle((-6.666666666666669+10j), (-6+8j), (-4.705882352941177+8.823529411764707j))\n",
      "Circle((15.999999999999998-1.9999999999999978j), (9.999999999999998-0j), (11.76470588235294-2.941176470588235j))\n",
      "Circle((-8.000000000000002-14.000000000000002j), (-6.000000000000002-12.000000000000002j), (-7.692307692307694-11.538461538461542j))\n"
     ]
    },
    {
     "name": "stderr",
     "output_type": "stream",
     "text": [
      "\n",
      "----------------------------------------------------------------------\n",
      "Ran 6 tests in 0.022s\n",
      "\n",
      "OK\n"
     ]
    },
    {
     "data": {
      "text/plain": [
       "<unittest.main.TestProgram at 0x7f43d74da668>"
      ]
     },
     "execution_count": 4,
     "metadata": {},
     "output_type": "execute_result"
    }
   ],
   "source": [
    "unittest.main(argv=['first-arg-is-ignored'], exit=False)"
   ]
  },
  {
   "cell_type": "code",
   "execution_count": null,
   "metadata": {},
   "outputs": [],
   "source": []
  }
 ],
 "metadata": {
  "kernelspec": {
   "display_name": "Python 3",
   "language": "python",
   "name": "python3"
  },
  "language_info": {
   "codemirror_mode": {
    "name": "ipython",
    "version": 3
   },
   "file_extension": ".py",
   "mimetype": "text/x-python",
   "name": "python",
   "nbconvert_exporter": "python",
   "pygments_lexer": "ipython3",
   "version": "3.6.9"
  }
 },
 "nbformat": 4,
 "nbformat_minor": 2
}
